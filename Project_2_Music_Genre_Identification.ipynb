{
  "nbformat": 4,
  "nbformat_minor": 0,
  "metadata": {
    "colab": {
      "name": "Project 2: Music Genre Identification.ipynb",
      "provenance": [],
      "collapsed_sections": [],
      "include_colab_link": true
    },
    "kernelspec": {
      "name": "python3",
      "display_name": "Python 3"
    },
    "accelerator": "TPU"
  },
  "cells": [
    {
      "cell_type": "markdown",
      "metadata": {
        "id": "view-in-github",
        "colab_type": "text"
      },
      "source": [
        "<a href=\"https://colab.research.google.com/github/Minakshi85/Music-Genre-Classification-Final/blob/master/Project_2_Music_Genre_Identification.ipynb\" target=\"_parent\"><img src=\"https://colab.research.google.com/assets/colab-badge.svg\" alt=\"Open In Colab\"/></a>"
      ]
    },
    {
      "cell_type": "code",
      "metadata": {
        "id": "FXTjzP1Qms9R",
        "colab_type": "code",
        "colab": {}
      },
      "source": [
        "!wget https://www.dropbox.com/s/4jw31k5mlzcmgis/genres.tar.gz?dl=0"
      ],
      "execution_count": 0,
      "outputs": []
    },
    {
      "cell_type": "code",
      "metadata": {
        "id": "EomMJ26QcROm",
        "colab_type": "code",
        "colab": {}
      },
      "source": [
        "import tarfile as tf\n",
        "import librosa\n",
        "import IPython.display as ipd\n",
        "\n",
        "import numpy as np\n",
        "import pandas as pd\n",
        "import matplotlib.pyplot as plt\n",
        "from PIL import Image\n",
        "\n",
        "\n",
        "import csv\n",
        "import os\n",
        "import pathlib\n",
        "\n",
        "from sklearn.preprocessing import LabelEncoder, StandardScaler\n",
        "from sklearn.model_selection import train_test_split\n",
        "\n",
        "import keras\n",
        "from keras import models\n",
        "from keras.layers import Conv1D, GlobalMaxPooling1D, Dense, Dropout, Activation\n",
        "from keras.callbacks import ModelCheckpoint, EarlyStopping\n",
        "from keras.models import load_model"
      ],
      "execution_count": 0,
      "outputs": []
    },
    {
      "cell_type": "code",
      "metadata": {
        "id": "UN0QiOsAm3j6",
        "colab_type": "code",
        "colab": {}
      },
      "source": [
        "tar = tf.open('/content/genres.tar.gz?dl=0')\n",
        "tar.extractall('/content')\n",
        "tar.close()"
      ],
      "execution_count": 0,
      "outputs": []
    },
    {
      "cell_type": "code",
      "metadata": {
        "id": "ps-_FC-mnTN6",
        "colab_type": "code",
        "colab": {}
      },
      "source": [
        "!rm /content/genres.tar.gz?dl=0"
      ],
      "execution_count": 0,
      "outputs": []
    },
    {
      "cell_type": "code",
      "metadata": {
        "id": "pCvdinu3sOSM",
        "colab_type": "code",
        "colab": {}
      },
      "source": [
        "header = 'filename chroma_stft rmse spectral_centroid spectral_bandwidth rolloff zero_crossing_rate contrast tonnetz'\n",
        "#[mfccs,chroma,mel,contrast,tonnetz]\n",
        "for i in range(1, 21):\n",
        "    header += f' mfcc{i}'\n",
        "header += ' label'\n",
        "header = header.split()"
      ],
      "execution_count": 0,
      "outputs": []
    },
    {
      "cell_type": "code",
      "metadata": {
        "id": "1l5Rn4aRtNsE",
        "colab_type": "code",
        "colab": {}
      },
      "source": [
        "file = open('music_info.csv', 'w', newline='')\n",
        "with file:\n",
        "    writer = csv.writer(file)\n",
        "    writer.writerow(header)\n",
        "genres = 'blues classical country disco hiphop jazz metal pop reggae rock'.split()\n",
        "for g in genres:\n",
        "    for filename in os.listdir(f'/content/genres/{g}'):\n",
        "        songname = f'/content/genres/{g}/{filename}'\n",
        "        #print(songname)\n",
        "        y, sr = librosa.load(songname, mono=True, duration=30)\n",
        "        # short term fourier transform\n",
        "        stft = np.abs(librosa.stft(y))\n",
        "\n",
        "        # spectral contrast\n",
        "        contrast = librosa.feature.spectral_contrast(S=stft, sr=sr)\n",
        "\n",
        "        tonnetz = librosa.feature.tonnetz(y=y, sr=sr)\n",
        "\n",
        "        chroma_stft = librosa.feature.chroma_stft(y=y, sr=sr)\n",
        "        rmse = librosa.feature.rmse(y=y)\n",
        "        spec_cent = librosa.feature.spectral_centroid(y=y, sr=sr)\n",
        "        spec_bw = librosa.feature.spectral_bandwidth(y=y, sr=sr)\n",
        "        rolloff = librosa.feature.spectral_rolloff(y=y, sr=sr)\n",
        "        zcr = librosa.feature.zero_crossing_rate(y)\n",
        "        mfcc = librosa.feature.mfcc(y=y, sr=sr)\n",
        "        to_append = f'{filename} {np.mean(chroma_stft)} {np.mean(rmse)} {np.mean(spec_cent)} {np.mean(spec_bw)} {np.mean(rolloff)} {np.mean(zcr)} {np.mean(contrast)} {np.mean(tonnetz)}'    \n",
        "        for e in mfcc:\n",
        "            to_append += f' {np.mean(e)}'\n",
        "        to_append += f' {g}'\n",
        "        file = open('music_info.csv', 'a', newline='')\n",
        "        with file:\n",
        "            writer = csv.writer(file)\n",
        "            writer.writerow(to_append.split())\n"
      ],
      "execution_count": 0,
      "outputs": []
    },
    {
      "cell_type": "markdown",
      "metadata": {
        "id": "U8AdTdUT_JgL",
        "colab_type": "text"
      },
      "source": [
        "**Reading CSV file of features and data preprocessing**"
      ]
    },
    {
      "cell_type": "code",
      "metadata": {
        "id": "vv9ndsKjtRow",
        "colab_type": "code",
        "outputId": "bf55142e-fa72-48b6-8c64-0754dd86b54f",
        "colab": {
          "base_uri": "https://localhost:8080/",
          "height": 233
        }
      },
      "source": [
        "music = pd.read_csv('/content/music_info.csv')\n",
        "print(\"shape of the dataframe is :\", music.shape)\n",
        "music.head()"
      ],
      "execution_count": 52,
      "outputs": [
        {
          "output_type": "stream",
          "text": [
            "shape of the dataframe is : (1000, 30)\n"
          ],
          "name": "stdout"
        },
        {
          "output_type": "execute_result",
          "data": {
            "text/html": [
              "<div>\n",
              "<style scoped>\n",
              "    .dataframe tbody tr th:only-of-type {\n",
              "        vertical-align: middle;\n",
              "    }\n",
              "\n",
              "    .dataframe tbody tr th {\n",
              "        vertical-align: top;\n",
              "    }\n",
              "\n",
              "    .dataframe thead th {\n",
              "        text-align: right;\n",
              "    }\n",
              "</style>\n",
              "<table border=\"1\" class=\"dataframe\">\n",
              "  <thead>\n",
              "    <tr style=\"text-align: right;\">\n",
              "      <th></th>\n",
              "      <th>filename</th>\n",
              "      <th>chroma_stft</th>\n",
              "      <th>rmse</th>\n",
              "      <th>spectral_centroid</th>\n",
              "      <th>spectral_bandwidth</th>\n",
              "      <th>rolloff</th>\n",
              "      <th>zero_crossing_rate</th>\n",
              "      <th>contrast</th>\n",
              "      <th>tonnetz</th>\n",
              "      <th>mfcc1</th>\n",
              "      <th>mfcc2</th>\n",
              "      <th>mfcc3</th>\n",
              "      <th>mfcc4</th>\n",
              "      <th>mfcc5</th>\n",
              "      <th>mfcc6</th>\n",
              "      <th>mfcc7</th>\n",
              "      <th>mfcc8</th>\n",
              "      <th>mfcc9</th>\n",
              "      <th>mfcc10</th>\n",
              "      <th>mfcc11</th>\n",
              "      <th>mfcc12</th>\n",
              "      <th>mfcc13</th>\n",
              "      <th>mfcc14</th>\n",
              "      <th>mfcc15</th>\n",
              "      <th>mfcc16</th>\n",
              "      <th>mfcc17</th>\n",
              "      <th>mfcc18</th>\n",
              "      <th>mfcc19</th>\n",
              "      <th>mfcc20</th>\n",
              "      <th>label</th>\n",
              "    </tr>\n",
              "  </thead>\n",
              "  <tbody>\n",
              "    <tr>\n",
              "      <th>0</th>\n",
              "      <td>blues.00087.au</td>\n",
              "      <td>0.336773</td>\n",
              "      <td>0.158098</td>\n",
              "      <td>1442.190271</td>\n",
              "      <td>1870.534155</td>\n",
              "      <td>3083.414688</td>\n",
              "      <td>0.050889</td>\n",
              "      <td>22.673188</td>\n",
              "      <td>-0.012294</td>\n",
              "      <td>-155.504931</td>\n",
              "      <td>125.638857</td>\n",
              "      <td>1.596554</td>\n",
              "      <td>45.804523</td>\n",
              "      <td>0.900779</td>\n",
              "      <td>25.367563</td>\n",
              "      <td>-10.787496</td>\n",
              "      <td>15.566380</td>\n",
              "      <td>-11.920468</td>\n",
              "      <td>1.264440</td>\n",
              "      <td>-6.649819</td>\n",
              "      <td>-0.792894</td>\n",
              "      <td>-7.748057</td>\n",
              "      <td>0.413548</td>\n",
              "      <td>-7.030262</td>\n",
              "      <td>3.997678</td>\n",
              "      <td>-6.256612</td>\n",
              "      <td>0.958226</td>\n",
              "      <td>2.019822</td>\n",
              "      <td>-5.742189</td>\n",
              "      <td>blues</td>\n",
              "    </tr>\n",
              "    <tr>\n",
              "      <th>1</th>\n",
              "      <td>blues.00025.au</td>\n",
              "      <td>0.290948</td>\n",
              "      <td>0.089222</td>\n",
              "      <td>1109.569627</td>\n",
              "      <td>1463.288131</td>\n",
              "      <td>2243.569767</td>\n",
              "      <td>0.051725</td>\n",
              "      <td>21.030588</td>\n",
              "      <td>-0.017111</td>\n",
              "      <td>-249.281996</td>\n",
              "      <td>130.997924</td>\n",
              "      <td>0.665435</td>\n",
              "      <td>66.696115</td>\n",
              "      <td>17.905895</td>\n",
              "      <td>4.622960</td>\n",
              "      <td>6.610036</td>\n",
              "      <td>1.245376</td>\n",
              "      <td>1.419175</td>\n",
              "      <td>-1.584293</td>\n",
              "      <td>-0.974159</td>\n",
              "      <td>-3.575065</td>\n",
              "      <td>-2.926915</td>\n",
              "      <td>4.598686</td>\n",
              "      <td>7.478115</td>\n",
              "      <td>-0.178770</td>\n",
              "      <td>-2.818857</td>\n",
              "      <td>-2.667636</td>\n",
              "      <td>0.751667</td>\n",
              "      <td>-0.533179</td>\n",
              "      <td>blues</td>\n",
              "    </tr>\n",
              "    <tr>\n",
              "      <th>2</th>\n",
              "      <td>blues.00079.au</td>\n",
              "      <td>0.421495</td>\n",
              "      <td>0.270870</td>\n",
              "      <td>2443.298208</td>\n",
              "      <td>2358.443293</td>\n",
              "      <td>5267.601481</td>\n",
              "      <td>0.124735</td>\n",
              "      <td>21.790103</td>\n",
              "      <td>0.001981</td>\n",
              "      <td>-3.528043</td>\n",
              "      <td>92.914318</td>\n",
              "      <td>-25.110401</td>\n",
              "      <td>45.177700</td>\n",
              "      <td>-10.861859</td>\n",
              "      <td>31.854362</td>\n",
              "      <td>-18.049332</td>\n",
              "      <td>28.619510</td>\n",
              "      <td>-10.224033</td>\n",
              "      <td>14.666931</td>\n",
              "      <td>-14.899714</td>\n",
              "      <td>14.742995</td>\n",
              "      <td>-15.600666</td>\n",
              "      <td>9.548172</td>\n",
              "      <td>-14.788735</td>\n",
              "      <td>2.067856</td>\n",
              "      <td>-13.821133</td>\n",
              "      <td>3.563616</td>\n",
              "      <td>-5.965995</td>\n",
              "      <td>-1.649998</td>\n",
              "      <td>blues</td>\n",
              "    </tr>\n",
              "    <tr>\n",
              "      <th>3</th>\n",
              "      <td>blues.00050.au</td>\n",
              "      <td>0.400860</td>\n",
              "      <td>0.182380</td>\n",
              "      <td>1945.848425</td>\n",
              "      <td>2082.246626</td>\n",
              "      <td>4175.874749</td>\n",
              "      <td>0.085806</td>\n",
              "      <td>21.139975</td>\n",
              "      <td>0.006800</td>\n",
              "      <td>-82.979023</td>\n",
              "      <td>107.052113</td>\n",
              "      <td>-25.320453</td>\n",
              "      <td>57.124995</td>\n",
              "      <td>0.085439</td>\n",
              "      <td>34.696804</td>\n",
              "      <td>-11.042022</td>\n",
              "      <td>20.532698</td>\n",
              "      <td>-11.213178</td>\n",
              "      <td>14.834126</td>\n",
              "      <td>-10.229334</td>\n",
              "      <td>12.539582</td>\n",
              "      <td>-9.762304</td>\n",
              "      <td>2.562253</td>\n",
              "      <td>-6.300853</td>\n",
              "      <td>2.996785</td>\n",
              "      <td>-8.718456</td>\n",
              "      <td>-0.326581</td>\n",
              "      <td>-2.980347</td>\n",
              "      <td>0.712601</td>\n",
              "      <td>blues</td>\n",
              "    </tr>\n",
              "    <tr>\n",
              "      <th>4</th>\n",
              "      <td>blues.00012.au</td>\n",
              "      <td>0.269320</td>\n",
              "      <td>0.119072</td>\n",
              "      <td>1361.045467</td>\n",
              "      <td>1567.804596</td>\n",
              "      <td>2739.625101</td>\n",
              "      <td>0.069124</td>\n",
              "      <td>22.135935</td>\n",
              "      <td>0.002276</td>\n",
              "      <td>-207.208080</td>\n",
              "      <td>132.799175</td>\n",
              "      <td>-15.438986</td>\n",
              "      <td>60.986727</td>\n",
              "      <td>0.725807</td>\n",
              "      <td>12.437828</td>\n",
              "      <td>1.183836</td>\n",
              "      <td>-1.540779</td>\n",
              "      <td>-17.888154</td>\n",
              "      <td>8.358496</td>\n",
              "      <td>-2.452068</td>\n",
              "      <td>-0.613248</td>\n",
              "      <td>0.384877</td>\n",
              "      <td>2.605128</td>\n",
              "      <td>-5.188924</td>\n",
              "      <td>-9.527455</td>\n",
              "      <td>-9.244394</td>\n",
              "      <td>-2.848274</td>\n",
              "      <td>-1.418707</td>\n",
              "      <td>-5.932607</td>\n",
              "      <td>blues</td>\n",
              "    </tr>\n",
              "  </tbody>\n",
              "</table>\n",
              "</div>"
            ],
            "text/plain": [
              "         filename  chroma_stft      rmse  ...    mfcc19    mfcc20  label\n",
              "0  blues.00087.au     0.336773  0.158098  ...  2.019822 -5.742189  blues\n",
              "1  blues.00025.au     0.290948  0.089222  ...  0.751667 -0.533179  blues\n",
              "2  blues.00079.au     0.421495  0.270870  ... -5.965995 -1.649998  blues\n",
              "3  blues.00050.au     0.400860  0.182380  ... -2.980347  0.712601  blues\n",
              "4  blues.00012.au     0.269320  0.119072  ... -1.418707 -5.932607  blues\n",
              "\n",
              "[5 rows x 30 columns]"
            ]
          },
          "metadata": {
            "tags": []
          },
          "execution_count": 52
        }
      ]
    },
    {
      "cell_type": "code",
      "metadata": {
        "id": "8Rn4X34stz5D",
        "colab_type": "code",
        "colab": {}
      },
      "source": [
        "# Dropping unneccesary columns\n",
        "music = music.drop(['filename'],axis=1)"
      ],
      "execution_count": 0,
      "outputs": []
    },
    {
      "cell_type": "code",
      "metadata": {
        "id": "rSaqw8VBt4Qz",
        "colab_type": "code",
        "outputId": "0fae6d33-77fe-47ec-f345-bf368f8458d0",
        "colab": {
          "base_uri": "https://localhost:8080/",
          "height": 150
        }
      },
      "source": [
        "#one hot encoding for labels\n",
        "genre_label = music['label']\n",
        "encoder = LabelEncoder()\n",
        "Y = keras.utils.to_categorical(encoder.fit_transform(genre_label), num_classes = 10)\n",
        "print('Length of Y : ', len(Y))\n",
        "Y"
      ],
      "execution_count": 54,
      "outputs": [
        {
          "output_type": "stream",
          "text": [
            "Length of Y :  1000\n"
          ],
          "name": "stdout"
        },
        {
          "output_type": "execute_result",
          "data": {
            "text/plain": [
              "array([[1., 0., 0., ..., 0., 0., 0.],\n",
              "       [1., 0., 0., ..., 0., 0., 0.],\n",
              "       [1., 0., 0., ..., 0., 0., 0.],\n",
              "       ...,\n",
              "       [0., 0., 0., ..., 0., 0., 1.],\n",
              "       [0., 0., 0., ..., 0., 0., 1.],\n",
              "       [0., 0., 0., ..., 0., 0., 1.]], dtype=float32)"
            ]
          },
          "metadata": {
            "tags": []
          },
          "execution_count": 54
        }
      ]
    },
    {
      "cell_type": "code",
      "metadata": {
        "id": "iNHIO193ylsa",
        "colab_type": "code",
        "colab": {}
      },
      "source": [
        "# conversion into numpy ndarray and splitting into train and test data sets\n",
        "X = np.array(music.iloc[:, :-1], dtype=float)\n",
        "train_x, test_x, y_train, y_test = train_test_split(X, Y, test_size=0.2)"
      ],
      "execution_count": 0,
      "outputs": []
    },
    {
      "cell_type": "code",
      "metadata": {
        "id": "euNdFMFx01Vb",
        "colab_type": "code",
        "outputId": "babfc997-f59f-41fe-af97-7d10e629b752",
        "colab": {
          "base_uri": "https://localhost:8080/",
          "height": 234
        }
      },
      "source": [
        "# standrazation\n",
        "scaler = StandardScaler()\n",
        "scaler.fit(train_x)\n",
        "x_train = scaler.transform(train_x)\n",
        "x_test = scaler.transform(test_x)\n",
        "x_test"
      ],
      "execution_count": 56,
      "outputs": [
        {
          "output_type": "execute_result",
          "data": {
            "text/plain": [
              "array([[ 0.38831291,  0.8904742 ,  0.05040381, ..., -1.15885454,\n",
              "        -0.16465766, -0.34735832],\n",
              "       [-0.45839053,  1.95897852, -0.16102607, ...,  1.09840695,\n",
              "         0.77674544,  0.6919388 ],\n",
              "       [-0.66572447, -1.39446355, -0.62014835, ..., -0.15197628,\n",
              "         0.42739438,  0.14177671],\n",
              "       ...,\n",
              "       [ 0.77409511,  0.53153317,  1.30029981, ...,  0.95324901,\n",
              "         0.71258894,  1.85942952],\n",
              "       [-2.2659541 , -0.58091622, -1.4655982 , ..., -0.32039274,\n",
              "        -1.05861006, -1.16461402],\n",
              "       [-1.35689104, -1.07654079, -0.47110729, ..., -1.07755096,\n",
              "         0.80130118,  0.4518856 ]])"
            ]
          },
          "metadata": {
            "tags": []
          },
          "execution_count": 56
        }
      ]
    },
    {
      "cell_type": "code",
      "metadata": {
        "id": "Kc6uiyw7vWMz",
        "colab_type": "code",
        "outputId": "bb8121fb-28cc-48cc-c6a5-538a32aa76e4",
        "colab": {
          "base_uri": "https://localhost:8080/",
          "height": 33
        }
      },
      "source": [
        "len(x_train), len(y_train), len(x_test), len(y_test)"
      ],
      "execution_count": 57,
      "outputs": [
        {
          "output_type": "execute_result",
          "data": {
            "text/plain": [
              "(800, 800, 200, 200)"
            ]
          },
          "metadata": {
            "tags": []
          },
          "execution_count": 57
        }
      ]
    },
    {
      "cell_type": "code",
      "metadata": {
        "id": "Yc9UVECLvaB1",
        "colab_type": "code",
        "outputId": "bfd2be46-3f36-4d6d-be99-ba21fac34e1d",
        "colab": {
          "base_uri": "https://localhost:8080/",
          "height": 117
        }
      },
      "source": [
        "x_train[0]"
      ],
      "execution_count": 58,
      "outputs": [
        {
          "output_type": "execute_result",
          "data": {
            "text/plain": [
              "array([-0.5468281 , -0.32198778, -1.02164072, -1.15679731, -1.16135559,\n",
              "       -0.67210721, -0.47709137,  1.68798643, -0.21760932,  1.39997033,\n",
              "       -1.50222007,  0.29696169,  1.40307622, -1.71484295,  1.29619517,\n",
              "       -0.43399674,  0.93264468, -2.28944836,  0.53083762, -0.74651483,\n",
              "        0.27394628, -0.49546553,  1.01474994, -0.0916023 ,  1.07678019,\n",
              "        0.38870495,  1.58885307,  1.70568858])"
            ]
          },
          "metadata": {
            "tags": []
          },
          "execution_count": 58
        }
      ]
    },
    {
      "cell_type": "code",
      "metadata": {
        "id": "eqKnD_wY1sam",
        "colab_type": "code",
        "outputId": "bd0941ae-ddb0-4889-d671-256ffa175113",
        "colab": {
          "base_uri": "https://localhost:8080/",
          "height": 33
        }
      },
      "source": [
        "y_test[0]"
      ],
      "execution_count": 59,
      "outputs": [
        {
          "output_type": "execute_result",
          "data": {
            "text/plain": [
              "array([0., 0., 0., 0., 1., 0., 0., 0., 0., 0.], dtype=float32)"
            ]
          },
          "metadata": {
            "tags": []
          },
          "execution_count": 59
        }
      ]
    },
    {
      "cell_type": "code",
      "metadata": {
        "id": "omN1Q66Du5mi",
        "colab_type": "code",
        "colab": {}
      },
      "source": [
        "cp = ModelCheckpoint('/content/best_model.h5', \n",
        "                             monitor='val_acc',\n",
        "                             verbose=1, \n",
        "                             save_best_only=True)"
      ],
      "execution_count": 0,
      "outputs": []
    },
    {
      "cell_type": "code",
      "metadata": {
        "id": "Ko_INquHvCN9",
        "colab_type": "code",
        "colab": {}
      },
      "source": [
        "es = EarlyStopping(monitor='val_acc', \n",
        "                          patience=7,\n",
        "                          verbose=1)"
      ],
      "execution_count": 0,
      "outputs": []
    },
    {
      "cell_type": "code",
      "metadata": {
        "id": "EUQ4BON6vfRC",
        "colab_type": "code",
        "colab": {}
      },
      "source": [
        "model = models.Sequential()\n",
        "model.add(layers.Dense(512, activation='relu', input_shape=(train_x.shape[1],)))\n",
        "model.add(Dropout(0.25))\n",
        "model.add(layers.Dense(256, activation='relu'))\n",
        "model.add(Dropout(0.25))\n",
        "model.add(layers.Dense(64, activation='relu'))\n",
        "model.add(Dropout(0.25))\n",
        "model.add(layers.Dense(10, activation='softmax'))"
      ],
      "execution_count": 0,
      "outputs": []
    },
    {
      "cell_type": "code",
      "metadata": {
        "id": "UVFzrdKcv3A_",
        "colab_type": "code",
        "colab": {
          "base_uri": "https://localhost:8080/",
          "height": 385
        },
        "outputId": "f720fb49-206e-49c6-f265-c27b95308cf5"
      },
      "source": [
        "model.summary()"
      ],
      "execution_count": 121,
      "outputs": [
        {
          "output_type": "stream",
          "text": [
            "Model: \"sequential_15\"\n",
            "_________________________________________________________________\n",
            "Layer (type)                 Output Shape              Param #   \n",
            "=================================================================\n",
            "dense_42 (Dense)             (None, 512)               14848     \n",
            "_________________________________________________________________\n",
            "dropout_33 (Dropout)         (None, 512)               0         \n",
            "_________________________________________________________________\n",
            "dense_43 (Dense)             (None, 256)               131328    \n",
            "_________________________________________________________________\n",
            "dropout_34 (Dropout)         (None, 256)               0         \n",
            "_________________________________________________________________\n",
            "dense_44 (Dense)             (None, 64)                16448     \n",
            "_________________________________________________________________\n",
            "dropout_35 (Dropout)         (None, 64)                0         \n",
            "_________________________________________________________________\n",
            "dense_45 (Dense)             (None, 10)                650       \n",
            "=================================================================\n",
            "Total params: 163,274\n",
            "Trainable params: 163,274\n",
            "Non-trainable params: 0\n",
            "_________________________________________________________________\n"
          ],
          "name": "stdout"
        }
      ]
    },
    {
      "cell_type": "code",
      "metadata": {
        "id": "2UIzTJ8SwCG9",
        "colab_type": "code",
        "colab": {}
      },
      "source": [
        "model.compile(optimizer='adam',\n",
        "              loss='categorical_crossentropy',\n",
        "              metrics=['accuracy'])"
      ],
      "execution_count": 0,
      "outputs": []
    },
    {
      "cell_type": "code",
      "metadata": {
        "id": "TCoDNja-wI52",
        "colab_type": "code",
        "outputId": "44cde7e2-5c43-4bf7-963d-d9a6bdd1e7b1",
        "colab": {
          "base_uri": "https://localhost:8080/",
          "height": 1000
        }
      },
      "source": [
        "history = model.fit(x_train,\n",
        "                    y_train,\n",
        "                    epochs=70,\n",
        "                    batch_size=64,\n",
        "                    validation_data =(x_test, y_test),\n",
        "                    callbacks = [es,cp])"
      ],
      "execution_count": 123,
      "outputs": [
        {
          "output_type": "stream",
          "text": [
            "Train on 800 samples, validate on 200 samples\n",
            "Epoch 1/70\n",
            "800/800 [==============================] - 2s 2ms/step - loss: 2.0986 - acc: 0.2512 - val_loss: 1.7862 - val_acc: 0.3400\n",
            "\n",
            "Epoch 00001: val_acc improved from -inf to 0.34000, saving model to /content/best_model.h5\n",
            "Epoch 2/70\n",
            "800/800 [==============================] - 0s 145us/step - loss: 1.7500 - acc: 0.3863 - val_loss: 1.5105 - val_acc: 0.3850\n",
            "\n",
            "Epoch 00002: val_acc improved from 0.34000 to 0.38500, saving model to /content/best_model.h5\n",
            "Epoch 3/70\n",
            "800/800 [==============================] - 0s 131us/step - loss: 1.5487 - acc: 0.4225 - val_loss: 1.2878 - val_acc: 0.5450\n",
            "\n",
            "Epoch 00003: val_acc improved from 0.38500 to 0.54500, saving model to /content/best_model.h5\n",
            "Epoch 4/70\n",
            "800/800 [==============================] - 0s 137us/step - loss: 1.3902 - acc: 0.4913 - val_loss: 1.2209 - val_acc: 0.5700\n",
            "\n",
            "Epoch 00004: val_acc improved from 0.54500 to 0.57000, saving model to /content/best_model.h5\n",
            "Epoch 5/70\n",
            "800/800 [==============================] - 0s 128us/step - loss: 1.2928 - acc: 0.5613 - val_loss: 1.1276 - val_acc: 0.5900\n",
            "\n",
            "Epoch 00005: val_acc improved from 0.57000 to 0.59000, saving model to /content/best_model.h5\n",
            "Epoch 6/70\n",
            "800/800 [==============================] - 0s 134us/step - loss: 1.1875 - acc: 0.5900 - val_loss: 1.0594 - val_acc: 0.6150\n",
            "\n",
            "Epoch 00006: val_acc improved from 0.59000 to 0.61500, saving model to /content/best_model.h5\n",
            "Epoch 7/70\n",
            "800/800 [==============================] - 0s 143us/step - loss: 1.1408 - acc: 0.5962 - val_loss: 1.0418 - val_acc: 0.6350\n",
            "\n",
            "Epoch 00007: val_acc improved from 0.61500 to 0.63500, saving model to /content/best_model.h5\n",
            "Epoch 8/70\n",
            "800/800 [==============================] - 0s 129us/step - loss: 1.0617 - acc: 0.6412 - val_loss: 0.9749 - val_acc: 0.6900\n",
            "\n",
            "Epoch 00008: val_acc improved from 0.63500 to 0.69000, saving model to /content/best_model.h5\n",
            "Epoch 9/70\n",
            "800/800 [==============================] - 0s 140us/step - loss: 0.9647 - acc: 0.6675 - val_loss: 0.9976 - val_acc: 0.6500\n",
            "\n",
            "Epoch 00009: val_acc did not improve from 0.69000\n",
            "Epoch 10/70\n",
            "800/800 [==============================] - 0s 134us/step - loss: 0.9150 - acc: 0.6837 - val_loss: 0.9285 - val_acc: 0.6700\n",
            "\n",
            "Epoch 00010: val_acc did not improve from 0.69000\n",
            "Epoch 11/70\n",
            "800/800 [==============================] - 0s 128us/step - loss: 0.8798 - acc: 0.6863 - val_loss: 0.9529 - val_acc: 0.6750\n",
            "\n",
            "Epoch 00011: val_acc did not improve from 0.69000\n",
            "Epoch 12/70\n",
            "800/800 [==============================] - 0s 135us/step - loss: 0.8515 - acc: 0.7112 - val_loss: 0.9069 - val_acc: 0.6900\n",
            "\n",
            "Epoch 00012: val_acc did not improve from 0.69000\n",
            "Epoch 13/70\n",
            "800/800 [==============================] - 0s 133us/step - loss: 0.8142 - acc: 0.7162 - val_loss: 0.9267 - val_acc: 0.6850\n",
            "\n",
            "Epoch 00013: val_acc did not improve from 0.69000\n",
            "Epoch 14/70\n",
            "800/800 [==============================] - 0s 133us/step - loss: 0.7685 - acc: 0.7288 - val_loss: 0.9516 - val_acc: 0.6650\n",
            "\n",
            "Epoch 00014: val_acc did not improve from 0.69000\n",
            "Epoch 15/70\n",
            "800/800 [==============================] - 0s 134us/step - loss: 0.7004 - acc: 0.7388 - val_loss: 0.9140 - val_acc: 0.7000\n",
            "\n",
            "Epoch 00015: val_acc improved from 0.69000 to 0.70000, saving model to /content/best_model.h5\n",
            "Epoch 16/70\n",
            "800/800 [==============================] - 0s 135us/step - loss: 0.7262 - acc: 0.7488 - val_loss: 0.8867 - val_acc: 0.7200\n",
            "\n",
            "Epoch 00016: val_acc improved from 0.70000 to 0.72000, saving model to /content/best_model.h5\n",
            "Epoch 17/70\n",
            "800/800 [==============================] - 0s 142us/step - loss: 0.6692 - acc: 0.7712 - val_loss: 0.9611 - val_acc: 0.6800\n",
            "\n",
            "Epoch 00017: val_acc did not improve from 0.72000\n",
            "Epoch 18/70\n",
            "800/800 [==============================] - 0s 132us/step - loss: 0.6489 - acc: 0.7838 - val_loss: 0.9183 - val_acc: 0.6900\n",
            "\n",
            "Epoch 00018: val_acc did not improve from 0.72000\n",
            "Epoch 19/70\n",
            "800/800 [==============================] - 0s 134us/step - loss: 0.6147 - acc: 0.7838 - val_loss: 0.8782 - val_acc: 0.7300\n",
            "\n",
            "Epoch 00019: val_acc improved from 0.72000 to 0.73000, saving model to /content/best_model.h5\n",
            "Epoch 20/70\n",
            "800/800 [==============================] - 0s 131us/step - loss: 0.5681 - acc: 0.7987 - val_loss: 0.8872 - val_acc: 0.7200\n",
            "\n",
            "Epoch 00020: val_acc did not improve from 0.73000\n",
            "Epoch 21/70\n",
            "800/800 [==============================] - 0s 147us/step - loss: 0.5538 - acc: 0.8188 - val_loss: 0.9015 - val_acc: 0.7000\n",
            "\n",
            "Epoch 00021: val_acc did not improve from 0.73000\n",
            "Epoch 22/70\n",
            "800/800 [==============================] - 0s 145us/step - loss: 0.5293 - acc: 0.8175 - val_loss: 0.9114 - val_acc: 0.7050\n",
            "\n",
            "Epoch 00022: val_acc did not improve from 0.73000\n",
            "Epoch 23/70\n",
            "800/800 [==============================] - 0s 138us/step - loss: 0.4858 - acc: 0.8425 - val_loss: 0.8837 - val_acc: 0.7250\n",
            "\n",
            "Epoch 00023: val_acc did not improve from 0.73000\n",
            "Epoch 24/70\n",
            "800/800 [==============================] - 0s 134us/step - loss: 0.4852 - acc: 0.8362 - val_loss: 0.9121 - val_acc: 0.7100\n",
            "\n",
            "Epoch 00024: val_acc did not improve from 0.73000\n",
            "Epoch 25/70\n",
            "800/800 [==============================] - 0s 132us/step - loss: 0.4530 - acc: 0.8463 - val_loss: 0.8530 - val_acc: 0.7350\n",
            "\n",
            "Epoch 00025: val_acc improved from 0.73000 to 0.73500, saving model to /content/best_model.h5\n",
            "Epoch 26/70\n",
            "800/800 [==============================] - 0s 129us/step - loss: 0.4310 - acc: 0.8538 - val_loss: 0.9541 - val_acc: 0.7300\n",
            "\n",
            "Epoch 00026: val_acc did not improve from 0.73500\n",
            "Epoch 27/70\n",
            "800/800 [==============================] - 0s 149us/step - loss: 0.4021 - acc: 0.8638 - val_loss: 0.8891 - val_acc: 0.7350\n",
            "\n",
            "Epoch 00027: val_acc did not improve from 0.73500\n",
            "Epoch 28/70\n",
            "800/800 [==============================] - 0s 125us/step - loss: 0.4214 - acc: 0.8488 - val_loss: 0.9779 - val_acc: 0.6800\n",
            "\n",
            "Epoch 00028: val_acc did not improve from 0.73500\n",
            "Epoch 29/70\n",
            "800/800 [==============================] - 0s 126us/step - loss: 0.4422 - acc: 0.8450 - val_loss: 0.9444 - val_acc: 0.7100\n",
            "\n",
            "Epoch 00029: val_acc did not improve from 0.73500\n",
            "Epoch 30/70\n",
            "800/800 [==============================] - 0s 139us/step - loss: 0.3726 - acc: 0.8687 - val_loss: 0.9307 - val_acc: 0.7100\n",
            "\n",
            "Epoch 00030: val_acc did not improve from 0.73500\n",
            "Epoch 31/70\n",
            "800/800 [==============================] - 0s 134us/step - loss: 0.3655 - acc: 0.8800 - val_loss: 0.9462 - val_acc: 0.7050\n",
            "\n",
            "Epoch 00031: val_acc did not improve from 0.73500\n",
            "Epoch 32/70\n",
            "800/800 [==============================] - 0s 133us/step - loss: 0.3178 - acc: 0.9025 - val_loss: 1.0121 - val_acc: 0.6950\n",
            "\n",
            "Epoch 00032: val_acc did not improve from 0.73500\n",
            "Epoch 00032: early stopping\n"
          ],
          "name": "stdout"
        }
      ]
    },
    {
      "cell_type": "code",
      "metadata": {
        "id": "DaGz2mT759o_",
        "colab_type": "code",
        "colab": {}
      },
      "source": [
        "best_model = load_model('/content/best_model.h5')"
      ],
      "execution_count": 0,
      "outputs": []
    },
    {
      "cell_type": "code",
      "metadata": {
        "id": "4-fUsuUZEZT5",
        "colab_type": "code",
        "colab": {
          "base_uri": "https://localhost:8080/",
          "height": 234
        },
        "outputId": "aa82d405-53f2-4ad0-ecc8-9e2b37c6c8fa"
      },
      "source": [
        "p = best_model.predict(x_test)\n",
        "p"
      ],
      "execution_count": 148,
      "outputs": [
        {
          "output_type": "execute_result",
          "data": {
            "text/plain": [
              "array([[2.1382427e-04, 6.4396998e-05, 2.6140348e-03, ..., 2.6155585e-02,\n",
              "        6.0548283e-02, 8.4283194e-03],\n",
              "       [3.8790807e-01, 3.1437623e-04, 5.7088113e-01, ..., 1.8940961e-04,\n",
              "        1.4015556e-04, 4.6943347e-03],\n",
              "       [3.8625940e-03, 1.7355908e-04, 4.5603327e-03, ..., 2.4343934e-05,\n",
              "        2.7197599e-04, 1.9191434e-03],\n",
              "       ...,\n",
              "       [5.5749207e-03, 7.2815520e-04, 2.7227294e-02, ..., 5.6503154e-02,\n",
              "        8.1240386e-02, 8.6175613e-03],\n",
              "       [2.8228718e-03, 3.3709832e-02, 1.4172831e-03, ..., 1.0844908e-05,\n",
              "        1.0990199e-04, 4.3277530e-05],\n",
              "       [5.6258999e-03, 3.5305067e-03, 3.5862195e-01, ..., 6.2748403e-03,\n",
              "        3.0772284e-02, 4.1213520e-02]], dtype=float32)"
            ]
          },
          "metadata": {
            "tags": []
          },
          "execution_count": 148
        }
      ]
    },
    {
      "cell_type": "code",
      "metadata": {
        "id": "JoWhFnzOEnlH",
        "colab_type": "code",
        "colab": {
          "base_uri": "https://localhost:8080/",
          "height": 184
        },
        "outputId": "b5c3df76-4869-4e77-904e-e121133e9827"
      },
      "source": [
        "classes = best_model.predict_classes(x_test)\n",
        "classes"
      ],
      "execution_count": 150,
      "outputs": [
        {
          "output_type": "execute_result",
          "data": {
            "text/plain": [
              "array([4, 2, 5, 0, 7, 1, 1, 9, 3, 9, 6, 5, 0, 4, 6, 1, 8, 8, 9, 5, 5, 3,\n",
              "       5, 3, 3, 8, 9, 3, 1, 7, 6, 9, 3, 8, 6, 4, 4, 5, 0, 9, 9, 7, 6, 7,\n",
              "       5, 0, 8, 4, 9, 9, 4, 8, 8, 9, 1, 4, 4, 0, 6, 8, 7, 5, 1, 6, 6, 9,\n",
              "       2, 7, 6, 1, 0, 3, 5, 4, 8, 2, 7, 8, 7, 7, 5, 7, 9, 4, 4, 5, 3, 7,\n",
              "       9, 5, 2, 2, 5, 9, 1, 5, 9, 8, 3, 4, 2, 5, 9, 0, 3, 5, 5, 8, 9, 0,\n",
              "       1, 3, 5, 8, 1, 7, 7, 6, 6, 4, 0, 1, 4, 5, 7, 5, 8, 0, 4, 1, 9, 1,\n",
              "       9, 5, 2, 2, 8, 3, 5, 5, 2, 1, 7, 4, 4, 2, 6, 5, 7, 6, 3, 4, 0, 6,\n",
              "       8, 1, 3, 7, 2, 9, 5, 9, 6, 1, 2, 4, 1, 7, 4, 7, 9, 9, 4, 3, 1, 6,\n",
              "       5, 1, 6, 4, 2, 8, 7, 2, 1, 5, 9, 0, 8, 5, 2, 9, 6, 0, 2, 2, 2, 4,\n",
              "       5, 5])"
            ]
          },
          "metadata": {
            "tags": []
          },
          "execution_count": 150
        }
      ]
    },
    {
      "cell_type": "code",
      "metadata": {
        "id": "E-LoNFSREyiq",
        "colab_type": "code",
        "colab": {}
      },
      "source": [
        "y_class = np.where(p>0.5, 1,0)"
      ],
      "execution_count": 0,
      "outputs": []
    },
    {
      "cell_type": "code",
      "metadata": {
        "id": "Gce1U-SYEuBi",
        "colab_type": "code",
        "colab": {}
      },
      "source": [
        "from sklearn.metrics import accuracy_score"
      ],
      "execution_count": 0,
      "outputs": []
    },
    {
      "cell_type": "code",
      "metadata": {
        "id": "-7kYz0ftFT2R",
        "colab_type": "code",
        "colab": {
          "base_uri": "https://localhost:8080/",
          "height": 33
        },
        "outputId": "2e2f19ca-6178-4b25-8874-b575ef129d26"
      },
      "source": [
        "print(\"Accuracy Score %: \", (accuracy_score(y_test, y_class))*100)"
      ],
      "execution_count": 147,
      "outputs": [
        {
          "output_type": "stream",
          "text": [
            "Accuracy Score %:  68.0\n"
          ],
          "name": "stdout"
        }
      ]
    },
    {
      "cell_type": "code",
      "metadata": {
        "id": "B9bLk1HmFcY2",
        "colab_type": "code",
        "colab": {}
      },
      "source": [
        ""
      ],
      "execution_count": 0,
      "outputs": []
    },
    {
      "cell_type": "markdown",
      "metadata": {
        "id": "a0CJgBkzHTZj",
        "colab_type": "text"
      },
      "source": [
        "# Model building using Conv1D"
      ]
    },
    {
      "cell_type": "code",
      "metadata": {
        "id": "dznXzBxr3JcU",
        "colab_type": "code",
        "colab": {}
      },
      "source": [
        "from keras.layers import InputLayer, Conv1D, Dense, Flatten, MaxPool1D, GlobalMaxPool1D, Dropout"
      ],
      "execution_count": 0,
      "outputs": []
    },
    {
      "cell_type": "code",
      "metadata": {
        "id": "x93oqWGw5Tnq",
        "colab_type": "code",
        "outputId": "7db96f8e-bdb0-401a-a36e-04e557a8e80a",
        "colab": {
          "base_uri": "https://localhost:8080/",
          "height": 33
        }
      },
      "source": [
        "x_train.shape, x_test.shape"
      ],
      "execution_count": 71,
      "outputs": [
        {
          "output_type": "execute_result",
          "data": {
            "text/plain": [
              "((800, 28), (200, 28))"
            ]
          },
          "metadata": {
            "tags": []
          },
          "execution_count": 71
        }
      ]
    },
    {
      "cell_type": "code",
      "metadata": {
        "id": "zcdC-Onm497p",
        "colab_type": "code",
        "colab": {}
      },
      "source": [
        "train_x_cnn = x_train.reshape(800,28,1)\n",
        "test_x_cnn = x_test.reshape(200,28,1)"
      ],
      "execution_count": 0,
      "outputs": []
    },
    {
      "cell_type": "code",
      "metadata": {
        "id": "B_bmuLSW2qWq",
        "colab_type": "code",
        "colab": {}
      },
      "source": [
        "model1 = models.Sequential()\n",
        "\n",
        "model1.add(InputLayer(input_shape=(28,1)))\n",
        "model1.add(Conv1D(filters =50, \n",
        "                 kernel_size= 10,\n",
        "                 padding = 'valid',\n",
        "                 activation = 'relu',\n",
        "                 strides = 1))\n",
        "model1.add(MaxPool1D(strides=1))\n",
        "model1.add(Flatten())\n",
        "model1.add(Dropout(0.2))\n",
        "model1.add(Dense(512, activation ='tanh'))\n",
        "model1.add(Dropout(0.2))\n",
        "model1.add(Dense(128, activation ='tanh'))\n",
        "model1.add(Dropout(0.2))\n",
        "model1.add(Dense(units=10, activation='softmax'))"
      ],
      "execution_count": 0,
      "outputs": []
    },
    {
      "cell_type": "code",
      "metadata": {
        "id": "A-Roa3Mz4qsT",
        "colab_type": "code",
        "outputId": "b4109590-e07e-4285-d1dd-a6882ca7f523",
        "colab": {
          "base_uri": "https://localhost:8080/",
          "height": 452
        }
      },
      "source": [
        "model1.summary()"
      ],
      "execution_count": 100,
      "outputs": [
        {
          "output_type": "stream",
          "text": [
            "Model: \"sequential_11\"\n",
            "_________________________________________________________________\n",
            "Layer (type)                 Output Shape              Param #   \n",
            "=================================================================\n",
            "conv1d_7 (Conv1D)            (None, 19, 50)            550       \n",
            "_________________________________________________________________\n",
            "max_pooling1d_7 (MaxPooling1 (None, 18, 50)            0         \n",
            "_________________________________________________________________\n",
            "flatten_7 (Flatten)          (None, 900)               0         \n",
            "_________________________________________________________________\n",
            "dropout_21 (Dropout)         (None, 900)               0         \n",
            "_________________________________________________________________\n",
            "dense_27 (Dense)             (None, 512)               461312    \n",
            "_________________________________________________________________\n",
            "dropout_22 (Dropout)         (None, 512)               0         \n",
            "_________________________________________________________________\n",
            "dense_28 (Dense)             (None, 128)               65664     \n",
            "_________________________________________________________________\n",
            "dropout_23 (Dropout)         (None, 128)               0         \n",
            "_________________________________________________________________\n",
            "dense_29 (Dense)             (None, 10)                1290      \n",
            "=================================================================\n",
            "Total params: 528,816\n",
            "Trainable params: 528,816\n",
            "Non-trainable params: 0\n",
            "_________________________________________________________________\n"
          ],
          "name": "stdout"
        }
      ]
    },
    {
      "cell_type": "code",
      "metadata": {
        "id": "yKs9iHZ9wXwa",
        "colab_type": "code",
        "colab": {}
      },
      "source": [
        "cp_cnn = ModelCheckpoint('/content/best_model_cnn.h5', \n",
        "                             monitor='val_loss',\n",
        "                             verbose=1, \n",
        "                             save_best_only=True)"
      ],
      "execution_count": 0,
      "outputs": []
    },
    {
      "cell_type": "code",
      "metadata": {
        "id": "oi51FBGZ1mUW",
        "colab_type": "code",
        "colab": {}
      },
      "source": [
        "model1.compile(optimizer='adam',\n",
        "              loss='categorical_crossentropy',\n",
        "              metrics=['accuracy'])"
      ],
      "execution_count": 0,
      "outputs": []
    },
    {
      "cell_type": "code",
      "metadata": {
        "id": "KB6z0ngM52oY",
        "colab_type": "code",
        "outputId": "32a00d12-cdfe-4d55-c4f6-d97422aec3b6",
        "colab": {
          "base_uri": "https://localhost:8080/",
          "height": 1000
        }
      },
      "source": [
        "model1.fit(train_x_cnn,\n",
        "            y_train,\n",
        "            epochs=50,\n",
        "            batch_size=64,\n",
        "            validation_data =(test_x_cnn, y_test),\n",
        "            callbacks = [es,cp_cnn])"
      ],
      "execution_count": 103,
      "outputs": [
        {
          "output_type": "stream",
          "text": [
            "Train on 800 samples, validate on 200 samples\n",
            "Epoch 1/50\n",
            "800/800 [==============================] - 1s 2ms/step - loss: 1.9277 - acc: 0.3087 - val_loss: 1.4433 - val_acc: 0.4750\n",
            "\n",
            "Epoch 00001: val_loss improved from inf to 1.44331, saving model to /content/best_model_cnn.h5\n",
            "Epoch 2/50\n",
            "800/800 [==============================] - 0s 306us/step - loss: 1.4029 - acc: 0.4938 - val_loss: 1.2409 - val_acc: 0.5700\n",
            "\n",
            "Epoch 00002: val_loss improved from 1.44331 to 1.24091, saving model to /content/best_model_cnn.h5\n",
            "Epoch 3/50\n",
            "800/800 [==============================] - 0s 298us/step - loss: 1.2453 - acc: 0.5600 - val_loss: 1.1638 - val_acc: 0.6050\n",
            "\n",
            "Epoch 00003: val_loss improved from 1.24091 to 1.16375, saving model to /content/best_model_cnn.h5\n",
            "Epoch 4/50\n",
            "800/800 [==============================] - 0s 316us/step - loss: 1.1531 - acc: 0.5925 - val_loss: 1.1169 - val_acc: 0.6100\n",
            "\n",
            "Epoch 00004: val_loss improved from 1.16375 to 1.11687, saving model to /content/best_model_cnn.h5\n",
            "Epoch 5/50\n",
            "800/800 [==============================] - 0s 314us/step - loss: 1.0741 - acc: 0.6187 - val_loss: 1.1000 - val_acc: 0.6350\n",
            "\n",
            "Epoch 00005: val_loss improved from 1.11687 to 1.10001, saving model to /content/best_model_cnn.h5\n",
            "Epoch 6/50\n",
            "800/800 [==============================] - 0s 310us/step - loss: 0.9972 - acc: 0.6462 - val_loss: 1.0952 - val_acc: 0.6300\n",
            "\n",
            "Epoch 00006: val_loss improved from 1.10001 to 1.09517, saving model to /content/best_model_cnn.h5\n",
            "Epoch 7/50\n",
            "800/800 [==============================] - 0s 303us/step - loss: 0.9461 - acc: 0.6700 - val_loss: 1.0915 - val_acc: 0.6450\n",
            "\n",
            "Epoch 00007: val_loss improved from 1.09517 to 1.09152, saving model to /content/best_model_cnn.h5\n",
            "Epoch 8/50\n",
            "800/800 [==============================] - 0s 308us/step - loss: 0.8927 - acc: 0.7100 - val_loss: 1.0418 - val_acc: 0.6500\n",
            "\n",
            "Epoch 00008: val_loss improved from 1.09152 to 1.04183, saving model to /content/best_model_cnn.h5\n",
            "Epoch 9/50\n",
            "800/800 [==============================] - 0s 312us/step - loss: 0.8158 - acc: 0.7250 - val_loss: 1.0360 - val_acc: 0.6800\n",
            "\n",
            "Epoch 00009: val_loss improved from 1.04183 to 1.03597, saving model to /content/best_model_cnn.h5\n",
            "Epoch 10/50\n",
            "800/800 [==============================] - 0s 317us/step - loss: 0.7911 - acc: 0.7275 - val_loss: 1.0383 - val_acc: 0.6800\n",
            "\n",
            "Epoch 00010: val_loss did not improve from 1.03597\n",
            "Epoch 11/50\n",
            "800/800 [==============================] - 0s 320us/step - loss: 0.7477 - acc: 0.7450 - val_loss: 1.0330 - val_acc: 0.6350\n",
            "\n",
            "Epoch 00011: val_loss improved from 1.03597 to 1.03301, saving model to /content/best_model_cnn.h5\n",
            "Epoch 12/50\n",
            "800/800 [==============================] - 0s 312us/step - loss: 0.7112 - acc: 0.7700 - val_loss: 1.0630 - val_acc: 0.6750\n",
            "\n",
            "Epoch 00012: val_loss did not improve from 1.03301\n",
            "Epoch 13/50\n",
            "800/800 [==============================] - 0s 297us/step - loss: 0.6910 - acc: 0.7600 - val_loss: 1.0623 - val_acc: 0.6800\n",
            "\n",
            "Epoch 00013: val_loss did not improve from 1.03301\n",
            "Epoch 14/50\n",
            "800/800 [==============================] - 0s 297us/step - loss: 0.6523 - acc: 0.7737 - val_loss: 1.0781 - val_acc: 0.6500\n",
            "\n",
            "Epoch 00014: val_loss did not improve from 1.03301\n",
            "Epoch 15/50\n",
            "800/800 [==============================] - 0s 326us/step - loss: 0.6491 - acc: 0.7750 - val_loss: 1.0937 - val_acc: 0.6200\n",
            "\n",
            "Epoch 00015: val_loss did not improve from 1.03301\n",
            "Epoch 16/50\n",
            "800/800 [==============================] - 0s 296us/step - loss: 0.5891 - acc: 0.7925 - val_loss: 1.0946 - val_acc: 0.6550\n",
            "\n",
            "Epoch 00016: val_loss did not improve from 1.03301\n",
            "Epoch 17/50\n",
            "800/800 [==============================] - 0s 286us/step - loss: 0.5788 - acc: 0.8150 - val_loss: 1.0363 - val_acc: 0.6450\n",
            "\n",
            "Epoch 00017: val_loss did not improve from 1.03301\n",
            "Epoch 18/50\n",
            "800/800 [==============================] - 0s 289us/step - loss: 0.5175 - acc: 0.8350 - val_loss: 0.9268 - val_acc: 0.7100\n",
            "\n",
            "Epoch 00018: val_loss improved from 1.03301 to 0.92676, saving model to /content/best_model_cnn.h5\n",
            "Epoch 19/50\n",
            "800/800 [==============================] - 0s 290us/step - loss: 0.5389 - acc: 0.8038 - val_loss: 1.0140 - val_acc: 0.6850\n",
            "\n",
            "Epoch 00019: val_loss did not improve from 0.92676\n",
            "Epoch 20/50\n",
            "800/800 [==============================] - 0s 295us/step - loss: 0.5264 - acc: 0.8137 - val_loss: 1.0950 - val_acc: 0.6350\n",
            "\n",
            "Epoch 00020: val_loss did not improve from 0.92676\n",
            "Epoch 21/50\n",
            "800/800 [==============================] - 0s 308us/step - loss: 0.5404 - acc: 0.7987 - val_loss: 0.9933 - val_acc: 0.6800\n",
            "\n",
            "Epoch 00021: val_loss did not improve from 0.92676\n",
            "Epoch 22/50\n",
            "800/800 [==============================] - 0s 297us/step - loss: 0.4561 - acc: 0.8525 - val_loss: 0.9988 - val_acc: 0.6850\n",
            "\n",
            "Epoch 00022: val_loss did not improve from 0.92676\n",
            "Epoch 23/50\n",
            "800/800 [==============================] - 0s 285us/step - loss: 0.4562 - acc: 0.8562 - val_loss: 1.1061 - val_acc: 0.6300\n",
            "\n",
            "Epoch 00023: val_loss did not improve from 0.92676\n",
            "Epoch 24/50\n",
            "800/800 [==============================] - 0s 290us/step - loss: 0.4361 - acc: 0.8425 - val_loss: 1.0212 - val_acc: 0.6800\n",
            "\n",
            "Epoch 00024: val_loss did not improve from 0.92676\n",
            "Epoch 25/50\n",
            "800/800 [==============================] - 0s 291us/step - loss: 0.4333 - acc: 0.8550 - val_loss: 1.0320 - val_acc: 0.6850\n",
            "\n",
            "Epoch 00025: val_loss did not improve from 0.92676\n",
            "Epoch 00025: early stopping\n"
          ],
          "name": "stdout"
        },
        {
          "output_type": "execute_result",
          "data": {
            "text/plain": [
              "<keras.callbacks.History at 0x7ff1853f71d0>"
            ]
          },
          "metadata": {
            "tags": []
          },
          "execution_count": 103
        }
      ]
    },
    {
      "cell_type": "code",
      "metadata": {
        "id": "dSf6PSY_HfLA",
        "colab_type": "code",
        "colab": {}
      },
      "source": [
        ""
      ],
      "execution_count": 0,
      "outputs": []
    },
    {
      "cell_type": "code",
      "metadata": {
        "id": "p4B29yp7Hh4T",
        "colab_type": "code",
        "colab": {}
      },
      "source": [
        ""
      ],
      "execution_count": 0,
      "outputs": []
    }
  ]
}